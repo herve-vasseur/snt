{
 "cells": [
  {
   "cell_type": "markdown",
   "metadata": {},
   "source": [
    "#  Sur les trames NMEA"
   ]
  },
  {
   "cell_type": "markdown",
   "metadata": {},
   "source": [
    "<div class=\"alert alert-info\">\n",
    "    \n",
    "### À propos de ce document (notebook Jupyter)\n",
    "\n",
    "Un notebook Jupyter est un document utilisable dans un navigateur internet et qui offre un noyau Python pour faire un peu de programmation informatique.  \n",
    "Vous verrez plusieurs types de **cellules** :\n",
    "* Cellules comme celle-ci, textes à lire, énoncés uniquement  ;\n",
    "* Cellules Python pour faire un peu d'informatique. Elle sont précédée en marge d'un In[ ] ou Entrée[ ]. Il faudra parfois y compléter certaines parties, indiquée par un commentaire # à compléter. Il faudra les exécuter en appuyant simultanément sur les touches \"ctrl\" et \"entrée\".\n",
    "* Cellules de réponses. Il faut y écrire les réponses.\n",
    "</div>"
   ]
  },
  {
   "cell_type": "markdown",
   "metadata": {},
   "source": [
    "<div class=\"alert alert-info\">\n",
    "\n",
    "### Document 1 : les trames NMEA - présentation\n",
    "\n",
    "Il existe plusieurs protocoles de communication pour les récepteurs GPS. Le plus courant est le protocole **NMEA 0183**.  \n",
    "Ce protocole échange les informations dans des **trames** normalisées. Elles sont générées par le récepteur GPS à partir des informations reçues depuis les satellites et partagées ensuite aux applications utilisant la localisation.  \n",
    "Chaque trame commence par le caractère '&#36;' et finit par un passage à la ligne (RC-LF).  \n",
    "L'intérieur de la trame est constitué de différents champs séparés par des virgules. Le dernier champ est constitué d'une * suivant d'un _checksum_ qui permet de vérifier l'intégritée de la transmission.  \n",
    "Le premier champ après &#36; est l'identifiant : il est constitué de 2 lettres indiquant la source du signal\n",
    "- BD ou GB pour Beidou\n",
    "- GA pour Galileo\n",
    "- GP pour GPS\n",
    "- GL pour GLONASS\n",
    "- ...\n",
    "\n",
    "suivi d'un code de 3 lettres indiquant le type de trame. Il en existe plus de 70 différents, selon l'utilisation qu'on en fait. Pour déterminer une position au sol, les plus intéressants sont\n",
    "* GGA\n",
    "* RMC\n",
    "* GLL  \n",
    "\n",
    "Plus d'information sur : https://fr.wikipedia.org/wiki/NMEA_0183\n",
    "</div>"
   ]
  },
  {
   "cell_type": "markdown",
   "metadata": {},
   "source": [
    "### Exercice 1\n",
    "\n",
    "On a recueilli les trois trames NMEA suivantes :\n",
    "1. &#36;GPRMC,150726.355,A,4800.0035,N,00242.8533,E,19.1,106.1,281219,,,A*56\n",
    "2. &#36;GPGGA,150733.000,4851.4909,N,00217.6657,E,1,15,0.6,131.9,M,47.9,M,,*59\n",
    "3. &#36;GPGLL,4754.11066,N,00154.62334,E,225444,A,*1D\n",
    "\n",
    "**Question 1**  \n",
    "Identifier la trame de type GGA."
   ]
  },
  {
   "cell_type": "raw",
   "metadata": {},
   "source": [
    "Réponse :"
   ]
  },
  {
   "cell_type": "markdown",
   "metadata": {},
   "source": [
    "**Question 2**  \n",
    "En utilisant le document ci-dessous, identifier la latitude et la longitude du lieu correspondant à cette trame."
   ]
  },
  {
   "cell_type": "markdown",
   "metadata": {},
   "source": [
    "<div class=\"alert alert-info\">\n",
    "\n",
    "### Document 2 : constitution d'une trame GGA\n",
    "\n",
    "trame : &#36;GPGGA,123519,4807.038,N,01131.000,E,1,08,0.9,545.4,M,46.9,M,,*47  \n",
    "Where:\n",
    "* GGA          Global Positioning System Fix Data\n",
    "* 123519       Fix taken at 12:35:19 UTC\n",
    "* 4807.038,N   Latitude 48 deg 07.038' N\n",
    "* 01131.000,E  Longitude 11 deg 31.000' E\n",
    "* 1            Fix quality\n",
    "* 08           Number of satellites being tracked\n",
    "* 0.9          Horizontal dilution of position\n",
    "* 545.4,M      Altitude, Meters, above mean sea level\n",
    "* 46.9,M       Height of geoid (mean sea level) above WGS84 ellipsoid\n",
    "* (empty field) time in seconds since last DGPS update\n",
    "* (empty field) DGPS station ID number\n",
    "* *47          the checksum data, always begins with *\n",
    "</div>"
   ]
  },
  {
   "cell_type": "raw",
   "metadata": {},
   "source": [
    "Latitude :\n",
    "Longitude :"
   ]
  },
  {
   "cell_type": "markdown",
   "metadata": {},
   "source": [
    "**Question 3**  \n",
    "Dans l'exemple du document 2, la latitude est de $la = 48°07.038'$ N.  \n",
    "Comme $1°=60'$, $la = 48+\\left(07.038/60 \\right) = 48.1173°$  \n",
    "Calculer de la même manière la latitude et la longitude en ° décimaux du lieu correspondant à la trame 2."
   ]
  },
  {
   "cell_type": "raw",
   "metadata": {},
   "source": [
    "Latitude en degrés décimaux =\n",
    "Longitude en degrés décimaux ="
   ]
  },
  {
   "cell_type": "markdown",
   "metadata": {},
   "source": [
    "**Question 4**  \n",
    "Nous allons utiliser une module python `folium` qui permet de visualiser sur des cartes.  \n",
    "Dans la cellule ci-dessous, compléter les coordonnées `lat` et `lon` par les valeurs que vous avez trouvé puis exécuter la cellule (ctrl + entrée)."
   ]
  },
  {
   "cell_type": "code",
   "execution_count": null,
   "metadata": {},
   "outputs": [],
   "source": [
    "import folium         # module permettant de manipuler une carte numérique\n",
    "\n",
    "lat =  # à compléter\n",
    "lon =  # à compléter\n",
    "\n",
    "point = (lat , lon)   # Définition du point cherché\n",
    "\n",
    "carte = folium.Map(location=point,zoom_start=12)   # création de la carte centrée sur le point\n",
    "\n",
    "folium.Marker(point, popup = 'lieu cherché').add_to(carte)    # positionnement d'un marqueur au point\n",
    "\n",
    "carte               # Affichage de la carte"
   ]
  },
  {
   "cell_type": "markdown",
   "metadata": {},
   "source": [
    "**Question 5**  \n",
    "En zoomant sur la carte, identifier le lieu remarquable qui est ainsi identifié."
   ]
  },
  {
   "cell_type": "raw",
   "metadata": {},
   "source": [
    "Réponse :"
   ]
  },
  {
   "cell_type": "markdown",
   "metadata": {},
   "source": [
    "**Question 6**  \n",
    "Reprendre les étapes précédentes pour identifier de la même manière les bâtiments correspondants aux deux autres lieux."
   ]
  },
  {
   "cell_type": "raw",
   "metadata": {},
   "source": [
    "1. Latitude =    en degrés, minutes\n",
    "   Latitude =    en degrés décimaux\n",
    "   Longitude =   en degrés, minutes\n",
    "   Longitude =   en degré décimaux\n",
    "   Bâtiment correspondant :\n",
    "3. Latitude =    en degrés, minutes\n",
    "   Latitude =    en degrés décimaux\n",
    "   Longitude =   en degrés, minutes\n",
    "   Longitude =   en degré décimaux\n",
    "   Bâtiment correspondant :"
   ]
  },
  {
   "cell_type": "markdown",
   "metadata": {},
   "source": [
    "### Exercice 2\n",
    "\n",
    "Nous allons faire un peu de programmation pour automatiser le traitement (ne pas calculer à la main la latitude et la longitude.  \n",
    "La trame MNEA est une chaîne de caractères, qu'il faut découper etdont il faut extraire les informations qui nous intéressent.\n",
    "```python\n",
    "    \"$GPGGA,101316.49,4041.3514,N,07402.6736,W,0,,100.000,120.064,M,,M,0,*4A\"\n",
    "    \"$GPRMC,053740.000,A,2503.6319,N,12136.0099,E,2.69,79.65,100106,,,A*53\"\n",
    "```\n",
    "Les différentes étapes :\n",
    "* convertir les degrés, minutes en degrés décimaux\n",
    "* selon le type, aller chercher la latitude et la longitude au bon endroit\n",
    "* identifier le type\n",
    "\n",
    "**Question 1**  \n",
    "Nous allons commencer par la conversion.  \n",
    "Compléter la fonction python suivante avec la formule de calcul utilisée précédemment, puis exécuter la cellule."
   ]
  },
  {
   "cell_type": "code",
   "execution_count": null,
   "metadata": {},
   "outputs": [],
   "source": [
    "def conversion_degreminute_degredecimaux(degre, minute):\n",
    "    degre_decimaux =        # à compléter\n",
    "    return degre_decimaux\n",
    "\n",
    "# Pour tester la fonction : on doit obtenir environ 48.858182\n",
    "conversion_degreminute_degredecimaux(48, 51.4909)"
   ]
  },
  {
   "cell_type": "markdown",
   "metadata": {},
   "source": [
    "**Question 2**  \n",
    "Pour traiter la trame et aller chercher la latitude et la longitude nous devont la casser et en extraire des morceaux.  \n",
    "Pour la casser, nous utiliserons la fonction `split(séparateur)`.  \n",
    "Pour en extraire des morceaux, nous utiliserons `trame[p:q]` qui va chercher les caractères entre la position p et la position (q-1).  \n",
    "Pour cela, nous avons écrit les deux fonctions `coordonnees_GGA` et `coordonnees_RMC`.  \n",
    "Exécuter la cellule suivante."
   ]
  },
  {
   "cell_type": "code",
   "execution_count": null,
   "metadata": {},
   "outputs": [],
   "source": [
    "def coordonnees_GGA(trame):\n",
    "    latitude, lat_dir, longitude, lon_dir = trame.split(',')[2:6]\n",
    "    latitude = conversion_degreminute_degredecimaux(int(latitude[0:2]), float(latitude[2:]))\n",
    "    if lat_dir==\"S\":\n",
    "        latitude = -latitude\n",
    "    longitude = conversion_degreminute_degredecimaux(int(longitude[0:3]), float(longitude[3:]))\n",
    "    if lon_dir==\"W\":\n",
    "        longitude = -longitude\n",
    "    return (latitude, longitude)\n",
    "\n",
    "\n",
    "def coordonnees_RMC(trame):\n",
    "    latitude, lat_dir, longitude, lon_dir = trame.split(',')[3:7]\n",
    "    latitude = conversion_degreminute_degredecimaux(int(latitude[0:2]), float(latitude[2:]))\n",
    "    if lat_dir==\"S\":\n",
    "        latitude = -latitude\n",
    "    longitude = conversion_degreminute_degredecimaux(int(longitude[0:3]), float(longitude[3:]))\n",
    "    if lon_dir==\"W\":\n",
    "        longitude = -longitude\n",
    "    return (latitude, longitude)"
   ]
  },
  {
   "cell_type": "markdown",
   "metadata": {},
   "source": [
    "Pour identifier le type, nous devons extraire dans la chaîne les caractères en positions 3, 4 et 5 (car le premier caractère &#36; est à la position 0.    \n",
    "Ensuite, il faut comparer avec `\"GGA\"` ou `\"RMC\"` (ou dans l'absolu toutes les autres possibilités) pour savoir de quel type il s'agit et faire appel à la fonction correspondante dans les deux fonctions précédentes.  \n",
    "Placer au bon endroit chacun des appels suivants :\n",
    "```python\n",
    "coordonnees_RMC(trame)\n",
    "coordonnees_GGA(trame)\n",
    "```\n",
    "et exécuter la cellule."
   ]
  },
  {
   "cell_type": "code",
   "execution_count": null,
   "metadata": {},
   "outputs": [],
   "source": [
    "def type_trame(trame):\n",
    "    ttype = trame[3:6]\n",
    "    if ttype == \"GGA\":\n",
    "        point =          # à compléter\n",
    "    elif ttype == \"RMC\":\n",
    "        point =          # à compléter\n",
    "    else:\n",
    "        point = None\n",
    "    return point"
   ]
  },
  {
   "cell_type": "markdown",
   "metadata": {},
   "source": [
    "**Question 3**  \n",
    "Il nous reste à tester avec chacune de nos trames.  \n",
    "Exécuter le cellule suivante et trouver le monument célèbre qui correspond à cette trame."
   ]
  },
  {
   "cell_type": "code",
   "execution_count": null,
   "metadata": {},
   "outputs": [],
   "source": [
    "mon_point = type_trame(\"$GPGGA,101316.49,4041.3514,N,07402.6736,W,0,,100.000,120.064,M,,M,0,*4A\")\n",
    "\n",
    "carte = folium.Map(mon_point, zoom_start = 10)\n",
    "folium.Marker(mon_point, popup='Quel monument ?').add_to(carte)\n",
    "\n",
    "carte"
   ]
  },
  {
   "cell_type": "markdown",
   "metadata": {},
   "source": [
    "Monument : "
   ]
  },
  {
   "cell_type": "markdown",
   "metadata": {},
   "source": [
    "**Question 4**  \n",
    "Seconde trame ; où cela nous mène-t-il ?"
   ]
  },
  {
   "cell_type": "code",
   "execution_count": null,
   "metadata": {},
   "outputs": [],
   "source": [
    "mon_point = type_trame(\"$GPRMC,053740.000,A,2503.6319,N,12136.0099,E,2.69,79.65,100106,,,A*53\")\n",
    "\n",
    "carte = folium.Map(mon_point, zoom_start = 10)\n",
    "folium.Marker(mon_point, popup='où est-ce ?').add_to(carte)\n",
    "\n",
    "carte"
   ]
  },
  {
   "cell_type": "raw",
   "metadata": {},
   "source": [
    "Réponse :"
   ]
  },
  {
   "cell_type": "markdown",
   "metadata": {},
   "source": [
    "### Exercice 3.\n",
    "\n",
    "Nous allons tracer le cercle de 100 km autour de chez vous dans lequel vous avez le droit de circuler dans cette phase de déconfinement.  \n",
    "Déterminer les coordonnées GPS de votre maison.  \n",
    "Compléter la cellule ci-dessous avec les valeurs trouvées et exécutez la."
   ]
  },
  {
   "cell_type": "code",
   "execution_count": null,
   "metadata": {},
   "outputs": [],
   "source": [
    "latitude =    # à compléter\n",
    "longitude =    # à compléter\n",
    "\n",
    "maison = (latitude, longitude)\n",
    "  \n",
    "ma_carte = folium.Map(location=maison, zoom_start=7)\n",
    "\n",
    "# ajouter le cercle des 100 km\n",
    "folium.Circle(\n",
    "        location = maison,\n",
    "        radius = 100000,\n",
    "        color = '#880000',\n",
    "        fill = True\n",
    "    ).add_to(ma_carte)\n",
    "\n",
    "folium.Marker(maison, popup = 'maison').add_to(ma_carte)\n",
    "\n",
    "ma_carte"
   ]
  },
  {
   "cell_type": "markdown",
   "metadata": {},
   "source": [
    "## Rendu du travail.\n",
    "\n",
    "Sauvegarder votre travail de la manière suivante :\n",
    "1. Assurer vous d'avoir complété toutes les réponses.\n",
    "2. Menu Noyau\n",
    ">* Redémarrer et effacer les sorties\n",
    ">* Relancer et effacer toutes les sorties dans la boîte de dialogue\n",
    "3. Menu fichier\n",
    ">* Télécharger au format\n",
    ">* choisir Notebook\n",
    ">* Envoyer le fichier ainsi téléchargé (trame-nmea.ipynb) par mail à herve.vasseur@ac-orleans-tours.fr\n"
   ]
  }
 ],
 "metadata": {
  "kernelspec": {
   "display_name": "Python 3",
   "language": "python",
   "name": "python3"
  },
  "language_info": {
   "codemirror_mode": {
    "name": "ipython",
    "version": 3
   },
   "file_extension": ".py",
   "mimetype": "text/x-python",
   "name": "python",
   "nbconvert_exporter": "python",
   "pygments_lexer": "ipython3",
   "version": "3.6.9"
  }
 },
 "nbformat": 4,
 "nbformat_minor": 4
}
