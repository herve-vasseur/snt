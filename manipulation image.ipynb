{
 "cells": [
  {
   "cell_type": "markdown",
   "metadata": {},
   "source": [
    "# Partie A : Création d'une image numérique\n",
    "\n",
    "Nous allons créer en Python une image que nous définirons pixel par pixel."
   ]
  },
  {
   "cell_type": "markdown",
   "metadata": {},
   "source": [
    "<div class=\"alert alert-danger\">\n",
    "\n",
    "### Exercice 1  \n",
    "Exécuter le code python ci-dessous.  \n",
    "Que fait-il ?\n",
    "</div>"
   ]
  },
  {
   "cell_type": "code",
   "execution_count": null,
   "metadata": {},
   "outputs": [],
   "source": [
    "### Exécuter la cellule\n",
    "\n",
    "from PIL import Image        # on indique qu'on utilise le module de traitement d'images\n",
    "img = Image.new(\"RGB\",(8,8)) # on créé une image couleur de 8x8 pixels\n",
    "\n",
    "for colonne in range(8):           # on parcourt les colonnes\n",
    "    for ligne in range(8):       # on parcourt les lignes\n",
    "        img.putpixel((colonne,ligne), (255,255,255)) # on met du blanc à chaque pixel\n",
    "\n",
    "img                   # affiche l'image"
   ]
  },
  {
   "cell_type": "markdown",
   "metadata": {},
   "source": [
    "<div class=\"alert alert-danger\">\n",
    "Évidemment, on ne voit rien.\n",
    "\n",
    "### Exercice 2  \n",
    "Dessinez un motif dans une grille de $8\\times8$ comme celle-ci,\n",
    "\n",
    "<img src=\"grille_vide.png\" alt=\"Grille 8x8\">\n",
    "\n",
    "en coloriant en noir, rouge, vert ou bleu quelques-une des cases.  \n",
    "Recréez le motif en ajoutant les lignes nécessaires au code suivant :\n",
    "</div>"
   ]
  },
  {
   "cell_type": "code",
   "execution_count": null,
   "metadata": {},
   "outputs": [],
   "source": [
    "### Compléter puis, exécuter la cellule\n",
    "\n",
    "img = Image.new(\"RGB\",(8,8))   # on créé une image couleur de 8x8 pixels\n",
    "\n",
    "for colonne in range(8):             # on parcourt les colonnes\n",
    "    for ligne in range(8):         # on parcourt les lignes\n",
    "        img.putpixel((colonne,ligne), (255,255,255)) # on met du blanc à chaque pixel\n",
    "\n",
    "# À compléter ci-dessous, les pixel que vous avez colorés\n",
    "# noir : (0,0,0) ; rouge : (255,0,0) ; vert : (0,255,0) ; bleu : (0,0,255)\n",
    "# autres couleurs : https://www.w3schools.com/colors/colors_rgb.asp\n",
    "img.putpixel((6,1), (0,255,0)) # exemple : le pixel colonne 6 et ligne 1 est en vert\n",
    "\n",
    "img                     # affiche l'image"
   ]
  },
  {
   "cell_type": "markdown",
   "metadata": {},
   "source": [
    "<div class=\"alert alert-danger\">\n",
    "\n",
    "### Exercice 3  \n",
    "Cette méthode de création d'images possède deux inconvénients majeurs :  \n",
    "\n",
    "- l'image est bien trop petite\n",
    "- colorer les pixels un par un est bien trop fastidieux\n",
    "\n",
    "Comment modifier le code précédent pour obtenir une image de $300\\times200$ ?\n",
    "</div>"
   ]
  },
  {
   "cell_type": "raw",
   "metadata": {},
   "source": [
    "Réponse :\n"
   ]
  },
  {
   "cell_type": "markdown",
   "metadata": {},
   "source": [
    "<div class=\"alert alert-danger\">\n",
    "\n",
    "On a ajouté au code ci-dessous les lignes :  \n",
    "\n",
    "```python\n",
    "for colonne in range(50,150):\n",
    "    img.putpixel((colonne,20), (156,61,207))\n",
    "```\n",
    "\n",
    "Exécutez le code et expliquer ce que ces lignes ont produit.\n",
    "</div>"
   ]
  },
  {
   "cell_type": "code",
   "execution_count": null,
   "metadata": {},
   "outputs": [],
   "source": [
    "### Exécuter la cellule\n",
    "\n",
    "img = Image.new(\"RGB\",(300,200))\n",
    "\n",
    "for colonne in range(300):             # on parcourt les colonnes\n",
    "    for ligne in range(200):         # on parcourt les lignes\n",
    "        img.putpixel((colonne,ligne), (255,255,255)) # on met du blanc à chaque pixel\n",
    "\n",
    "for colonne in range(50,150):\n",
    "    img.putpixel((colonne,20), (156,61,207))\n",
    "\n",
    "img                     # affiche l'image"
   ]
  },
  {
   "cell_type": "raw",
   "metadata": {},
   "source": [
    "Réponse : Ces lignes de code ont ..."
   ]
  },
  {
   "cell_type": "markdown",
   "metadata": {},
   "source": [
    "<div class=\"alert alert-danger\">\n",
    "\n",
    "### Exercice 4  \n",
    "On veut maintenant créer un **\"damier\"** avec différentes couleurs.  \n",
    "En ajoutant dans la cellule suivante des lignes de codes sur le modèle ci-dessous : \n",
    "```python\n",
    "for colonne in range(..., ...):\n",
    "    for ligne in range(..., ...):\n",
    "        img.putpixel((colonne,ligne), (..., ..., ...))\n",
    "```\n",
    "\n",
    "placer des rectangles de différentes couleurs et dimensions dans l'image.\n",
    "</div>"
   ]
  },
  {
   "cell_type": "code",
   "execution_count": null,
   "metadata": {},
   "outputs": [],
   "source": [
    "### Compléter, puis exécuter la cellule\n",
    "\n",
    "img = Image.new(\"RGB\",(300,200))\n",
    "\n",
    "for colonne in range(300):             # on parcourt les colonnes\n",
    "    for ligne in range(200):         # on parcourt les lignes\n",
    "        img.putpixel((colonne,ligne), (255,255,255)) # on met du blanc à chaque pixel\n",
    "\n",
    "# exemple de rectangle : modifiez-le et ajoutez-en d'autres\n",
    "for colonne in range(200, 250):\n",
    "    for ligne in range(20, 65):\n",
    "        img.putpixel((colonne,ligne), (16,162,127))\n",
    "\n",
    "img                     # affiche l'image"
   ]
  },
  {
   "cell_type": "markdown",
   "metadata": {},
   "source": [
    "# Partie B : Manipulation d'images\n",
    "\n",
    "Soit les deux images suivantes :  \n",
    "\n",
    "<img src=\"surprised_pika.bmp\" alt=\"Pikachu\"> <img src=\"paysage.jpg\" alt=\"fond\">\n",
    "\n",
    "Elles sont de même taille, $300\\times200$.  \n",
    "Notre objectif est d'enlever le fond vert et de le remplacer par le paysage."
   ]
  },
  {
   "cell_type": "markdown",
   "metadata": {},
   "source": [
    "<div class=\"alert alert-danger\">\n",
    "\n",
    "### Exercice 1  \n",
    "Dans la cellule ci-dessous, on charge l'image 1 dans la variable pika.  \n",
    "On met la valeur du pixel en position $\\left(0,0\\right)$ dans la variable pixel.\n",
    "On affiche cette valeur.\n",
    "</div>"
   ]
  },
  {
   "cell_type": "code",
   "execution_count": null,
   "metadata": {},
   "outputs": [],
   "source": [
    "### Exécuter la cellule\n",
    "\n",
    "pika = Image.open(\"surprised_pika.bmp\")\n",
    "pixel = pika.getpixel((0,0))\n",
    "pixel"
   ]
  },
  {
   "cell_type": "markdown",
   "metadata": {},
   "source": [
    "<div class=\"alert alert-danger\">\n",
    "\n",
    "1. Le résultat affiché vous parait-il correct ?\n",
    "1. Modifier le code afin d'afficher la valeur du pixel en bas, à droite\n",
    "1. Ajouter une ligne qui permet d'afficher \"ce pixel est vert\" si la valeur du pixel est effectivement celle d'un pixel vert\n",
    "</div>"
   ]
  },
  {
   "cell_type": "raw",
   "metadata": {},
   "source": [
    "Réponse :\n",
    "1."
   ]
  },
  {
   "cell_type": "markdown",
   "metadata": {},
   "source": [
    "<div class=\"alert alert-danger\">\n",
    "\n",
    "### Exercice 2  \n",
    "Le code ci-dessous parcourt l'ensemble des pixels de l'image.  \n",
    "Le but est de remplacer les pixels verts par des pixels bleus.  \n",
    "Compléter le code\n",
    "</div>"
   ]
  },
  {
   "cell_type": "code",
   "execution_count": null,
   "metadata": {},
   "outputs": [],
   "source": [
    "### Compléter, puis exécuter la cellule\n",
    "\n",
    "for colonne in range(300):\n",
    "    for ligne in range(200):\n",
    "        pixel = pika.getpixel((colonne,ligne))\n",
    "        if pixel==(0,255,0):\n",
    "            pika.putpixel # À compléter\n",
    "            \n",
    "pika"
   ]
  },
  {
   "cell_type": "markdown",
   "metadata": {},
   "source": [
    "<div class=\"alert alert-danger\">\n",
    "\n",
    "### Exercice 3  \n",
    "On charge les deux images dans les variables pika et fond.  \n",
    "Compléter le code ci-dessous pour que le pixel du fond remplace les pixels verts de pika.\n",
    "</div>"
   ]
  },
  {
   "cell_type": "code",
   "execution_count": null,
   "metadata": {},
   "outputs": [],
   "source": [
    "### Compléter, puis exécuter la cellule\n",
    "\n",
    "pika = Image.open(\"surprised_pika.bmp\")\n",
    "fond = Image.open(\"paysage.jpg\")\n",
    "\n",
    "for colonne in range(300):\n",
    "    for ligne in range(200):\n",
    "        pixel = pika.getpixel((colonne,ligne))\n",
    "        if pixel==(0,255,0):\n",
    "            new_pixel = # À compléter\n",
    "            pika.putpixel  # À compléter\n",
    "            \n",
    "pika"
   ]
  },
  {
   "cell_type": "markdown",
   "metadata": {},
   "source": [
    "<div class=\"alert alert-danger\">\n",
    "\n",
    "### Exercice 4  \n",
    "Le détourage de Pikachu est imparfait.  \n",
    "Que faudrait-il changer pour avoir un résultat plus joli ?  \n",
    "Faites le ci-dessous :\n",
    "</div>"
   ]
  },
  {
   "cell_type": "code",
   "execution_count": null,
   "metadata": {},
   "outputs": [],
   "source": [
    "### Compléter, puis exécuter la cellule\n",
    "\n",
    "pika = Image.open(\"surprised_pika.bmp\")\n",
    "fond = Image.open(\"paysage.jpg\")\n",
    "\n",
    "for colonne in range(300):\n",
    "    for ligne in range(200):\n",
    "        pixel = pika.getpixel((colonne,ligne))\n",
    "        if # À compléter\n",
    "            \n",
    "pika"
   ]
  }
 ],
 "metadata": {
  "kernelspec": {
   "display_name": "Python 3",
   "language": "python",
   "name": "python3"
  },
  "language_info": {
   "codemirror_mode": {
    "name": "ipython",
    "version": 3
   },
   "file_extension": ".py",
   "mimetype": "text/x-python",
   "name": "python",
   "nbconvert_exporter": "python",
   "pygments_lexer": "ipython3",
   "version": "3.6.9"
  }
 },
 "nbformat": 4,
 "nbformat_minor": 4
}
