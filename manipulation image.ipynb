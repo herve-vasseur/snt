{
 "cells": [
  {
   "cell_type": "markdown",
   "metadata": {},
   "source": [
    "# Création d'une image numérique\n",
    "\n",
    "Nous allons créer en Python une image que nous définirons pixel par pixel."
   ]
  },
  {
   "cell_type": "markdown",
   "metadata": {},
   "source": [
    "<div class=\"alert alert-info\">\n",
    "Commencer par sauvegarder le notebook localement sur votre ordinateur :\n",
    "\n",
    "Ci-dessus **Fichier**, **Save as**   \n",
    "Choisir votre emplacement.\n",
    "</div>"
   ]
  },
  {
   "cell_type": "markdown",
   "metadata": {},
   "source": [
    "<div class=\"alert alert-danger\">\n",
    "\n",
    "### Exercice 1  \n",
    "Exécuter le code python ci-dessous.  \n",
    "Que fait-il ?\n",
    "</div>"
   ]
  },
  {
   "cell_type": "code",
   "execution_count": null,
   "metadata": {},
   "outputs": [],
   "source": [
    "from PIL import Image        # on indique qu'on utilise le module de traitement d'images\n",
    "img = Image.new(\"RGB\",(8,8)) # on créé une image couleur de 8x8 pixels\n",
    "\n",
    "for x in range(8):           # on parcourt les colonnes\n",
    "    for y in range(8):       # on parcourt les lignes\n",
    "        img.putpixel((x,y), (255,255,255)) # on met du blanc à chaque pixel\n",
    "\n",
    "img.show()                   # affiche l'image\n",
    "img.save(\"carreblanc.bmp\")   # enregistre l'image"
   ]
  },
  {
   "cell_type": "markdown",
   "metadata": {},
   "source": [
    "<div class=\"alert alert-danger\">\n",
    "\n",
    "### Exercice 2  \n",
    "Dessinez un motif dans une grille de $8\\times8$ comme celle-ci,\n",
    "\n",
    "<img src=\"grille_vide.png\" alt=\"Grille 8x8\">\n",
    "\n",
    "en coloriant en noir, rouge, vert ou bleu quelques-une des cases.  \n",
    "Recréez le motif en ajoutant les lignes nécessaires au code suivant :\n",
    "</div>"
   ]
  },
  {
   "cell_type": "code",
   "execution_count": null,
   "metadata": {},
   "outputs": [],
   "source": [
    "img = Image.new(\"RGB\",(8,8))   # on créé une image couleur de 8x8 pixels\n",
    "\n",
    "for x in range(8):             # on parcourt les colonnes\n",
    "    for y in range(8):         # on parcourt les lignes\n",
    "        img.putpixel((x,y), (255,255,255)) # on met du blanc à chaque pixel\n",
    "\n",
    "# À compléter ci-dessous, les pixel que vous avez colorés\n",
    "# noir : (0,0,0) ; rouge : (255,0,0) ; vert : (0,255,0) ; bleu : (0,0,255)\n",
    "# autres couleurs : https://www.w3schools.com/colors/colors_rgb.asp\n",
    "img.putpixel((6,1), (0,255,0)) # exemple : le pixel colonne 6 et ligne 1 est en vert\n",
    "\n",
    "img.show()                     # affiche l'image\n",
    "img.save(\"motif.bmp\")          # enregistre l'image"
   ]
  },
  {
   "cell_type": "markdown",
   "metadata": {},
   "source": [
    "<div class=\"alert alert-danger\">\n",
    "\n",
    "### Exercice 3  \n",
    "Cette méthode de création d'images possède deux inconvénients majeurs :  \n",
    "\n",
    "- l'image est bien trop petite\n",
    "- colorer les pixels un par un est bien trop fastidieux\n",
    "\n",
    "Comment modifier le code précédent pour obtenir une image de $300\\times200$ ?\n",
    "</div>"
   ]
  },
  {
   "cell_type": "raw",
   "metadata": {},
   "source": [
    "Réponse :\n"
   ]
  },
  {
   "cell_type": "markdown",
   "metadata": {},
   "source": [
    "<div class=\"alert alert-danger\">\n",
    "\n",
    "On a ajouter au code ci-dessous les lignes :  \n",
    "\n",
    "    for x in range(50,150):\n",
    "        img.putpixel((x,20), (156,61,207))\n",
    "    \n",
    "Exécutez le code et expliquer ce que ces lignes ont produit.\n",
    "</div>"
   ]
  },
  {
   "cell_type": "code",
   "execution_count": null,
   "metadata": {},
   "outputs": [],
   "source": [
    "img = Image.new(\"RGB\",(300,200))\n",
    "\n",
    "for x in range(300):             # on parcourt les colonnes\n",
    "    for y in range(200):         # on parcourt les lignes\n",
    "        img.putpixel((x,y), (255,255,255)) # on met du blanc à chaque pixel\n",
    "\n",
    "for x in range(50,150):\n",
    "    img.putpixel((x,20), (156,61,207))\n",
    "\n",
    "img.show()                     # affiche l'image\n",
    "img.save(\"ligne mystère.bmp\")  # enregistre l'image"
   ]
  },
  {
   "cell_type": "raw",
   "metadata": {},
   "source": [
    "Réponse : Ces lignes de code ont ..."
   ]
  },
  {
   "cell_type": "markdown",
   "metadata": {},
   "source": [
    "<div class=\"alert alert-danger\">\n",
    "\n",
    "### Exercice 4  \n",
    "On veut maintenant créer un **\"damier\"** avec différentes couleurs.  \n",
    "En ajoutant dans la cellule suivante des lignes de codes sur le modèle ci-dessous : \n",
    "\n",
    "    for x in range(..., ...):\n",
    "        for y in range(..., ...):\n",
    "            img.putpixel((x,y), (..., ..., ...))\n",
    "\n",
    "placer des rectangles de différentes couleurs et dimensions dans l'image.\n",
    "</div>"
   ]
  },
  {
   "cell_type": "code",
   "execution_count": null,
   "metadata": {},
   "outputs": [],
   "source": [
    "img = Image.new(\"RGB\",(300,200))\n",
    "\n",
    "for x in range(300):             # on parcourt les colonnes\n",
    "    for y in range(200):         # on parcourt les lignes\n",
    "        img.putpixel((x,y), (255,255,255)) # on met du blanc à chaque pixel\n",
    "\n",
    "# exemple de rectangle : modifiez-le et ajoutez-en d'autres\n",
    "for x in range(200, 250):\n",
    "    for y in range(20, 65):\n",
    "        img.putpixel((x,y), (16,162,127))\n",
    "\n",
    "img.show()                     # affiche l'image\n",
    "img.save(\"damier.bmp\")  # enregistre l'image"
   ]
  }
 ],
 "metadata": {
  "kernelspec": {
   "display_name": "Python 3",
   "language": "python",
   "name": "python3"
  },
  "language_info": {
   "codemirror_mode": {
    "name": "ipython",
    "version": 3
   },
   "file_extension": ".py",
   "mimetype": "text/x-python",
   "name": "python",
   "nbconvert_exporter": "python",
   "pygments_lexer": "ipython3",
   "version": "3.6.9"
  }
 },
 "nbformat": 4,
 "nbformat_minor": 4
}
